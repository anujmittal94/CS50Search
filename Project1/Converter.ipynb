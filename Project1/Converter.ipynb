{
 "cells": [
  {
   "cell_type": "code",
   "execution_count": 123,
   "metadata": {},
   "outputs": [],
   "source": [
    "import re\n",
    "class rules:\n",
    "    slinemd = {\n",
    "        \"h1\": '^#\\s',\n",
    "        \"h2\": '^##\\s',\n",
    "        \"h3\": '^###\\s',\n",
    "        \"h4\": '^####\\s',\n",
    "        \"h5\": '^#####\\s',\n",
    "        \"h6\": '^######\\s'\n",
    "    } \n",
    "    \n",
    "    slineht = {\n",
    "        \"h1\": [\"<h1>\",\"</h1>\"],\n",
    "        \"h2\": [\"<h2>\",\"</h2>\"],\n",
    "        \"h3\": [\"<h3>\",\"</h3>\"],\n",
    "        \"h4\": [\"<h4>\",\"</h4>\"],\n",
    "        \"h5\": [\"<h5>\",\"</h5>\"],\n",
    "        \"h6\": [\"<h6>\",\"</h6>\"]\n",
    "    }\n",
    "\n",
    "    def subs(self,tag, content):\n",
    "        content = re.sub(self.slinemd[tag],\"\",content)\n",
    "        return self.slineht[tag][0] + content + self.slineht[tag][1]"
   ]
  },
  {
   "cell_type": "code",
   "execution_count": 129,
   "metadata": {},
   "outputs": [
    {
     "name": "stdout",
     "output_type": "stream",
     "text": [
      "<h1>I want to eat jam!</h1>\n"
     ]
    }
   ],
   "source": [
    "txt = \"# I want to eat jam!\"\n",
    "rulesobj = rules()\n",
    "for tag, value in rulesobj.slinemd.items():\n",
    "    if re.search(value,txt):\n",
    "        print(rulesobj.subs(tag,txt))"
   ]
  },
  {
   "cell_type": "code",
   "execution_count": 107,
   "metadata": {},
   "outputs": [
    {
     "name": "stdout",
     "output_type": "stream",
     "text": [
      "1 1\n",
      "2 2\n"
     ]
    }
   ],
   "source": [
    "dic = {\"1\": 1, \"2\": 2}\n",
    "for key, value in dic.items():\n",
    "    print(key,value)"
   ]
  },
  {
   "cell_type": "code",
   "execution_count": 81,
   "metadata": {},
   "outputs": [
    {
     "data": {
      "text/plain": [
       "'applejam'"
      ]
     },
     "execution_count": 81,
     "metadata": {},
     "output_type": "execute_result"
    }
   ],
   "source": [
    "\"apple\"+\"jam\""
   ]
  },
  {
   "cell_type": "code",
   "execution_count": 83,
   "metadata": {},
   "outputs": [],
   "source": [
    "test = {\n",
    "        \"h1\": [\"<h1>\",\"</h1>\"],\n",
    "        \"h2\": [\"<h2>\",\"</h2>\"],\n",
    "        \"h3\": [\"<h3>\",\"</h3>\"]\n",
    "    }"
   ]
  },
  {
   "cell_type": "code",
   "execution_count": 85,
   "metadata": {},
   "outputs": [
    {
     "data": {
      "text/plain": [
       "'<h1>'"
      ]
     },
     "execution_count": 85,
     "metadata": {},
     "output_type": "execute_result"
    }
   ],
   "source": [
    "test[\"h1\"][0]"
   ]
  },
  {
   "cell_type": "code",
   "execution_count": null,
   "metadata": {},
   "outputs": [],
   "source": []
  }
 ],
 "metadata": {
  "kernelspec": {
   "display_name": "Python 3",
   "language": "python",
   "name": "python3"
  },
  "language_info": {
   "codemirror_mode": {
    "name": "ipython",
    "version": 3
   },
   "file_extension": ".py",
   "mimetype": "text/x-python",
   "name": "python",
   "nbconvert_exporter": "python",
   "pygments_lexer": "ipython3",
   "version": "3.8.3"
  }
 },
 "nbformat": 4,
 "nbformat_minor": 4
}
